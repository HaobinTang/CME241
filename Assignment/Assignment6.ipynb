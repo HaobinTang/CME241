{
 "cells": [
  {
   "cell_type": "markdown",
   "metadata": {},
   "source": [
    "#  Assignment 6 by Haobin Tang"
   ]
  },
  {
   "cell_type": "markdown",
   "metadata": {},
   "source": [
    "## 1. Implement Forward-View TD(Lambda) algorithm for Value Function Prediction"
   ]
  },
  {
   "cell_type": "code",
   "execution_count": 1,
   "metadata": {},
   "outputs": [],
   "source": [
    "import numpy as np\n",
    "import random as random\n",
    "import matplotlib.pyplot as plt"
   ]
  },
  {
   "cell_type": "code",
   "execution_count": 111,
   "metadata": {},
   "outputs": [],
   "source": [
    "def Forward_TD(size,TD_path, Lambda, gamma, alpha=\"Not fixed\"):\n",
    "    V, counts_dict=env(size)\n",
    "\n",
    "    for episode in TD_path:\n",
    "        for j,i in enumerate(episode):\n",
    "            _, G_lambda=get_G_lambda(j,episode,V,gamma,Lambda)\n",
    "            s=i[0]\n",
    "            counts_dict[s] += 1\n",
    "            if alpha==\"Not fixed\":\n",
    "                a = 1/counts_dict[s]\n",
    "            else:\n",
    "                a=alpha\n",
    "            V[s] = V[s] + a*(G_lambda-V[s])\n",
    "    return V "
   ]
  },
  {
   "cell_type": "code",
   "execution_count": 42,
   "metadata": {},
   "outputs": [],
   "source": [
    "def env(size):\n",
    "    V={}\n",
    "    counts_dict={}\n",
    "    for i in range(size):\n",
    "        V[i]=0\n",
    "        counts_dict[i]=0\n",
    "    return V, counts_dict"
   ]
  },
  {
   "cell_type": "code",
   "execution_count": 95,
   "metadata": {},
   "outputs": [],
   "source": [
    "def get_G_lambda(j,episode,V,gamma,Lambda): \n",
    "    len_of_G=len(episode)-j\n",
    "    G_n=[0]*len_of_G\n",
    "    for k in range(j,len(episode)):\n",
    "        for l in range(len_of_G):\n",
    "            if l>=k-j:\n",
    "                G_n[l]=G_n[l]+episode[k][1]*gamma**(k-j)\n",
    "            if k<len(episode)-1:\n",
    "                if l==k-j:\n",
    "                    G_n[l]=G_n[l]+V[episode[k+1][0]]*gamma**(k-j+1)\n",
    "    G_lambda=0\n",
    "    for i in range(len(G_n)):\n",
    "        if i<len(G_n)-1:\n",
    "            G_lambda+=(1-Lambda)*(Lambda**i)*G_n[i]\n",
    "        else:\n",
    "            G_lambda+=(Lambda**i)*G_n[i]\n",
    "    return G_n, G_lambda"
   ]
  },
  {
   "cell_type": "code",
   "execution_count": 118,
   "metadata": {},
   "outputs": [],
   "source": [
    "#TD_path contains the data of episodes. Each episode there are (state, r) pairs.\n",
    "TD_path=[\n",
    "    [[0,5],[1,3],[3,2],[0,2],[5,2]],\n",
    "    [[0,3],[2,3],[4,3]],\n",
    "    [[1,6],[2,4],[4,3],[1,2],[5,2]],\n",
    "    [[1,6],[3,4],[4,3],[3,2],[0,2]],\n",
    "    [[1,6],[4,4],[4,3],[2,2],[1,2]],\n",
    "    [[1,6],[3,4],[4,3],[3,2],[0,2]],\n",
    "]"
   ]
  },
  {
   "cell_type": "code",
   "execution_count": 114,
   "metadata": {},
   "outputs": [
    {
     "name": "stdout",
     "output_type": "stream",
     "text": [
      "G_n is [6.8, 10.13, 10.049, 11.4341, 12.090200000000001] \n",
      " G_lambda= 7.133640710000001\n"
     ]
    }
   ],
   "source": [
    "#test get_G_lambda()\n",
    "episode=[0,5],[1,3],[3,2],[0,2],[5,2]\n",
    "V={0: 1.0, 1: 2.0, 2: 2.0, 3: 3.0, 4: 2.0, 5: 1.0}\n",
    "G_n, G_lambda=get_G_lambda(0,episode,V,0.9,0.1)\n",
    "print(\"G_n is\",G_n,'\\n',\"G_lambda=\",G_lambda)"
   ]
  },
  {
   "cell_type": "code",
   "execution_count": 119,
   "metadata": {},
   "outputs": [
    {
     "data": {
      "text/plain": [
       "{0: 2.952417844,\n",
       " 1: 8.028131271863701,\n",
       " 2: 6.457651846334045,\n",
       " 3: 7.418920907535256,\n",
       " 4: 8.333474088554961,\n",
       " 5: 2.0}"
      ]
     },
     "execution_count": 119,
     "metadata": {},
     "output_type": "execute_result"
    }
   ],
   "source": [
    "Forward_TD(6,TD_path, 0.1, 0.9,\"Not fixed\")"
   ]
  },
  {
   "cell_type": "code",
   "execution_count": 120,
   "metadata": {},
   "outputs": [
    {
     "data": {
      "text/plain": [
       "{0: 1.1526921507242,\n",
       " 1: 2.700754587058949,\n",
       " 2: 1.0763228690358013,\n",
       " 3: 1.582766047279178,\n",
       " 4: 1.9367578567556742,\n",
       " 5: 0.38}"
      ]
     },
     "execution_count": 120,
     "metadata": {},
     "output_type": "execute_result"
    }
   ],
   "source": [
    "Forward_TD(6,TD_path, 0.1, 0.9,0.1)"
   ]
  },
  {
   "cell_type": "markdown",
   "metadata": {},
   "source": [
    "## 2. Implement Backward View TD(Lambda), i.e., Eligibility Traces algorithm for Value Function Prediction"
   ]
  },
  {
   "cell_type": "markdown",
   "metadata": {},
   "source": [
    "$$\\delta_t=R_{t+1}+\\gamma V(S_{t+1})-V(S_t)$$\n",
    "$$V(s)=V(s)+\\alpha \\delta_t E_t(s)$$\n",
    "When $\\lambda = 0$, only current state is updated\n",
    "$$E_t(s)=1(S_t=s)$$\n",
    "$$V(s)=V(s)+\\alpha \\delta_t E_t(s)$$\n",
    "$$V(s)=V(s)+\\alpha \\delta_t$$\n",
    "When $\\lambda = 1$, credit is deferred until end of episode,Over the course of an episode, total update for TD(1) is the same as total update for MC, which we have proved in class:\n",
    "\n",
    "Consider an episode where s is visited once at time-step $k$,\n",
    "TD(1) eligibility trace discounts time since visit,\n",
    "$$E_t(s) = \\gamma E_{t−1}(s) + 1(S_t = s)$$\n",
    "$$E_t(s) =0 $$ if $t<k$\n",
    "$$E_t(s) =\\gamma^{t-k} $$ if $t>=k$\n",
    "\n",
    "By end of episode it accumulates total error\n",
    "$$\\delta_k+\\gamma\\delta_{k+1}+\\gamma^2\\delta_{k+2}+\\gamma^{T-k-1}\\delta_{T-1}$$\n",
    "$$=R_{t+1}+\\gamma V(S_{t+1})-V(S_t)$$\n",
    "$$+\\gamma R_{t+2}+\\gamma^2 V(S_{t+2})-\\gamma V(S_{t+1})$$\n",
    "$$...$$\n",
    "$$+\\gamma^{T-1-t} R_{T}+\\gamma^{T-t} V(S_{T})-\\gamma^{T-t-1} V(S_{T-1})$$\n",
    "$$=R_{t+1}+\\gamma R_{t+2}+...+\\gamma^{T-1-t} R_{T}-V(S_t)$$\n",
    "$$=G_t-V(S_t)$$"
   ]
  },
  {
   "cell_type": "markdown",
   "metadata": {},
   "source": [
    "We prove Prove that Offline Forward-View TD(Lambda) and Offline Backward View TD(Lambda) are equivalent in problem 5."
   ]
  },
  {
   "cell_type": "code",
   "execution_count": 141,
   "metadata": {},
   "outputs": [],
   "source": [
    "# Offline update\n",
    "def Backward_TD(size,TD_path, Lambda,gamma,alpha=\"Not fixed\"):\n",
    "    V, counts_dict=env(size)\n",
    "    for episode in TD_path:\n",
    "        G_lambda=get_G_lambda_list(episode,V,gamma,Lambda)\n",
    "        for j,i in enumerate(episode):\n",
    "            s=i[0]\n",
    "            counts_dict[s] += 1\n",
    "            if alpha==\"Not fixed\":\n",
    "                a = 1/counts_dict[s]\n",
    "            else:\n",
    "                a=alpha\n",
    "            V[s] = V[s] + a*(G_lambda[j])\n",
    "    return V"
   ]
  },
  {
   "cell_type": "code",
   "execution_count": 78,
   "metadata": {},
   "outputs": [],
   "source": [
    "def get_G_lambda_list(episode,V,gamma,Lambda): \n",
    "    G_lambda=[0]*len(episode)\n",
    "    for j,i in enumerate(episode):\n",
    "        s=i[0]\n",
    "        r=i[1]\n",
    "        if j<len(episode)-1:\n",
    "            next_s=episode[j+1][0]\n",
    "            delta_j=r+gamma*V[next_s]-V[s]\n",
    "        else:\n",
    "            delta_j=r-V[s]\n",
    "        \n",
    "        for k in range(0,j+1):\n",
    "            G_lambda[k]+=delta_j*(Lambda*gamma)**(j-k)\n",
    "    return G_lambda"
   ]
  },
  {
   "cell_type": "code",
   "execution_count": 79,
   "metadata": {},
   "outputs": [
    {
     "name": "stdout",
     "output_type": "stream",
     "text": [
      "G_lambda is [6.13364071, 3.7071190000000005, 0.07909999999999992, 1.99, 1.0]\n"
     ]
    }
   ],
   "source": [
    "#test get_G_lambda_list()\n",
    "episode=[0,5],[1,3],[3,2],[0,2],[5,2]\n",
    "V={0: 1.0, 1: 2.0, 2: 2.0, 3: 3.0, 4: 2.0, 5: 1.0}\n",
    "G_lambda=get_G_lambda_list(episode,V,0.9,0.1)\n",
    "print(\"G_lambda is\",G_lambda)"
   ]
  },
  {
   "cell_type": "code",
   "execution_count": 121,
   "metadata": {},
   "outputs": [
    {
     "data": {
      "text/plain": [
       "{0: 4.009975688,\n",
       " 1: 7.630804343210887,\n",
       " 2: 6.015810307765591,\n",
       " 3: 7.271754216045634,\n",
       " 4: 6.753814199216089,\n",
       " 5: 2.0}"
      ]
     },
     "execution_count": 121,
     "metadata": {},
     "output_type": "execute_result"
    }
   ],
   "source": [
    "TD_path=[\n",
    "    [[0,5],[1,3],[3,2],[0,2],[5,2]],\n",
    "    [[0,3],[2,3],[4,3]],\n",
    "    [[1,6],[2,4],[4,3],[1,2],[5,2]],\n",
    "    [[1,6],[3,4],[4,3],[3,2],[0,2]],\n",
    "    [[1,6],[4,4],[4,3],[2,2],[1,2]],\n",
    "    [[1,6],[3,4],[4,3],[3,2],[0,2]],\n",
    "]\n",
    "\n",
    "Backward_TD(6,TD_path, 0.1, 0.9)"
   ]
  },
  {
   "cell_type": "code",
   "execution_count": 122,
   "metadata": {},
   "outputs": [
    {
     "data": {
      "text/plain": [
       "{0: 1.1912401341380001,\n",
       " 1: 2.781332274429034,\n",
       " 2: 1.0307742563655233,\n",
       " 3: 1.6396252770882496,\n",
       " 4: 1.8639807300758666,\n",
       " 5: 0.38}"
      ]
     },
     "execution_count": 122,
     "metadata": {},
     "output_type": "execute_result"
    }
   ],
   "source": [
    "Backward_TD(6,TD_path, 0.1, 0.9,0.1)"
   ]
  },
  {
   "cell_type": "markdown",
   "metadata": {},
   "source": [
    "## 3. Implement these algorithms as offline or online algorithms (offline means updates happen only after a full simulation trace, online means updates happen at every time step)"
   ]
  },
  {
   "cell_type": "markdown",
   "metadata": {},
   "source": [
    "We can see that from the above, there are slightly difference the forward and backward TD algorithms. The reason is that in my above design, the forward TD is online alogorithm, which use the V(s) updated in the same episode, while the forward TD is offline alogorithm, which use the V(s) updated from the last episode. We can see from the following example, where there is two state 0. In forward TD, the later state 0 use the updated $V(S_0)$ to calculate G, while in the backward TD, it uses the unchanged $V(S_0)$.  "
   ]
  },
  {
   "cell_type": "code",
   "execution_count": 125,
   "metadata": {},
   "outputs": [
    {
     "name": "stdout",
     "output_type": "stream",
     "text": [
      "Forward_TD {0: 3.73389461, 1: 3.5831378341380002, 2: 0, 3: 6.4793092682, 4: 0, 5: 2.0}\n",
      "Backward_TD {0: 6.37778922, 1: 3.197658, 2: 0, 3: 2.1962, 4: 0, 5: 2.0}\n"
     ]
    }
   ],
   "source": [
    "TD_path=[\n",
    "    [[0,5],[1,3],[3,2],[0,2],[5,2]]\n",
    "]\n",
    "print(\"Forward_TD\",Forward_TD(6,TD_path, 0.1, 0.9))\n",
    "print(\"Backward_TD\",Backward_TD(6,TD_path, 0.1, 0.9))"
   ]
  },
  {
   "cell_type": "markdown",
   "metadata": {},
   "source": [
    "If we just have an episode, which each state appear at most once, the result will be the same."
   ]
  },
  {
   "cell_type": "code",
   "execution_count": 126,
   "metadata": {},
   "outputs": [
    {
     "name": "stdout",
     "output_type": "stream",
     "text": [
      "Forward_TD {0: 5.28778922, 1: 3.197658, 2: 0, 3: 2.1961999999999997, 4: 2.18, 5: 2.0}\n",
      "Backward_TD {0: 5.2877892200000005, 1: 3.197658, 2: 0, 3: 2.1962, 4: 2.18, 5: 2.0}\n"
     ]
    }
   ],
   "source": [
    "TD_path=[\n",
    "    [[0,5],[1,3],[3,2],[4,2],[5,2]]\n",
    "]\n",
    "print(\"Forward_TD\",Forward_TD(6,TD_path, 0.1, 0.9))\n",
    "print(\"Backward_TD\",Backward_TD(6,TD_path, 0.1, 0.9))"
   ]
  },
  {
   "cell_type": "markdown",
   "metadata": {},
   "source": [
    "Therefore, now I need to modify Forward_TD to offline version and Backward_TD to online version."
   ]
  },
  {
   "cell_type": "code",
   "execution_count": 142,
   "metadata": {},
   "outputs": [],
   "source": [
    "def Forward_TD_offline(size,TD_path, Lambda, gamma, alpha=\"Not fixed\"):\n",
    "    V, counts_dict=env(size)\n",
    "\n",
    "    for episode in TD_path:\n",
    "        G_lambda_list=[]\n",
    "        for j,i in enumerate(episode):\n",
    "            s=i[0]\n",
    "            _, G_lambda=get_G_lambda(j,episode,V,gamma,Lambda)\n",
    "            G_lambda_list.append(G_lambda-V[s])\n",
    "        for j,i in enumerate(episode):\n",
    "            s=i[0]\n",
    "            counts_dict[s] += 1\n",
    "            if alpha==\"Not fixed\":\n",
    "                a = 1/counts_dict[s]\n",
    "            else:\n",
    "                a=alpha\n",
    "            V[s] = V[s] + a*(G_lambda_list[j])\n",
    "    return V"
   ]
  },
  {
   "cell_type": "code",
   "execution_count": 144,
   "metadata": {},
   "outputs": [
    {
     "name": "stdout",
     "output_type": "stream",
     "text": [
      "Forward_TD_offline {0: 4.009975688, 1: 7.630804343210888, 2: 6.015810307765592, 3: 7.271754216045635, 4: 6.753814199216088, 5: 2.0}\n",
      "Backward_TD {0: 4.009975688, 1: 7.630804343210887, 2: 6.015810307765591, 3: 7.271754216045634, 4: 6.753814199216089, 5: 2.0}\n"
     ]
    }
   ],
   "source": [
    "TD_path=[\n",
    "    [[0,5],[1,3],[3,2],[0,2],[5,2]],\n",
    "    [[0,3],[2,3],[4,3]],\n",
    "    [[1,6],[2,4],[4,3],[1,2],[5,2]],\n",
    "    [[1,6],[3,4],[4,3],[3,2],[0,2]],\n",
    "    [[1,6],[4,4],[4,3],[2,2],[1,2]],\n",
    "    [[1,6],[3,4],[4,3],[3,2],[0,2]],\n",
    "]\n",
    "print(\"Forward_TD_offline\",Forward_TD_offline(6,TD_path, 0.1, 0.9))\n",
    "print(\"Backward_TD\",Backward_TD(6,TD_path, 0.1, 0.9))"
   ]
  },
  {
   "cell_type": "markdown",
   "metadata": {},
   "source": [
    "That's perfect!"
   ]
  },
  {
   "cell_type": "markdown",
   "metadata": {},
   "source": [
    "Next, we modify the Backward_TD to online version."
   ]
  },
  {
   "cell_type": "code",
   "execution_count": 145,
   "metadata": {},
   "outputs": [],
   "source": [
    "def Backward_TD_online(size,TD_path, Lambda,gamma,alpha=\"Not fixed\"):\n",
    "    V, counts_dict=env(size)\n",
    "    for episode in TD_path:\n",
    "        for j,i in enumerate(episode):\n",
    "            G_lambda=get_G_lambda_list(episode,V,gamma,Lambda)\n",
    "            s=i[0]\n",
    "            counts_dict[s] += 1\n",
    "            if alpha==\"Not fixed\":\n",
    "                a = 1/counts_dict[s]\n",
    "            else:\n",
    "                a=alpha\n",
    "            V[s] = V[s] + a*(G_lambda[j])\n",
    "    return V\n"
   ]
  },
  {
   "cell_type": "code",
   "execution_count": 147,
   "metadata": {},
   "outputs": [
    {
     "name": "stdout",
     "output_type": "stream",
     "text": [
      "Forward_TD {0: 2.952417844, 1: 8.028131271863701, 2: 6.457651846334045, 3: 7.418920907535256, 4: 8.333474088554961, 5: 2.0}\n",
      "Backward_TD_online {0: 2.952417844, 1: 8.028131271863701, 2: 6.457651846334045, 3: 7.418920907535255, 4: 8.333474088554961, 5: 2.0}\n"
     ]
    }
   ],
   "source": [
    "TD_path=[\n",
    "    [[0,5],[1,3],[3,2],[0,2],[5,2]],\n",
    "    [[0,3],[2,3],[4,3]],\n",
    "    [[1,6],[2,4],[4,3],[1,2],[5,2]],\n",
    "    [[1,6],[3,4],[4,3],[3,2],[0,2]],\n",
    "    [[1,6],[4,4],[4,3],[2,2],[1,2]],\n",
    "    [[1,6],[3,4],[4,3],[3,2],[0,2]],\n",
    "]\n",
    "print(\"Forward_TD\",Forward_TD(6,TD_path, 0.1, 0.9))\n",
    "print(\"Backward_TD_online\",Backward_TD_online(6,TD_path, 0.1, 0.9))"
   ]
  },
  {
   "cell_type": "markdown",
   "metadata": {},
   "source": [
    "That's perfect too! For now, we have finished the online and offline version of Forward_TD and Backward_TD_online. "
   ]
  },
  {
   "cell_type": "code",
   "execution_count": null,
   "metadata": {},
   "outputs": [],
   "source": []
  },
  {
   "cell_type": "markdown",
   "metadata": {},
   "source": [
    "## 4. Test these algorithms on some example MDPs, compare them versus DP Policy Evaluation, and plot their accuracy as a function of Lambda"
   ]
  },
  {
   "cell_type": "code",
   "execution_count": 197,
   "metadata": {},
   "outputs": [],
   "source": [
    "MP_transistion_Data={\n",
    "        0: {0:0.25, 1: 0.25, 2: 0.25, 3: 0.25},\n",
    "        1: {0:0, 1: 0, 2: 0.5, 3: 0.5},\n",
    "        2: {0:0, 1: 0.5, 2: 0, 3: 0.5},\n",
    "        3: {0:0, 1: 0, 2: 0, 3:1},\n",
    "    }\n",
    "\n",
    "Reward={0:2.5,1:2,2:2,3:3}\n"
   ]
  },
  {
   "cell_type": "code",
   "execution_count": 192,
   "metadata": {},
   "outputs": [],
   "source": [
    "MP_transistion_Data={\n",
    "        0: {0:0.5, 1: 0.5},\n",
    "        1: {0:0, 1: 1},\n",
    "\n",
    "    }\n",
    "\n",
    "Reward={0:1,1:1}"
   ]
  },
  {
   "cell_type": "code",
   "execution_count": 198,
   "metadata": {},
   "outputs": [],
   "source": [
    "''' To simplify as an MRP, we use the DP value function evaluation in HW2 to compute value function.\n",
    "The above algorithms are for (state, reward) pairs. Thus, the information of policy and state transition\n",
    "probability is in the data.\n",
    "'''\n",
    "def Solve_V(MP_transistion_Data,Reward,gama):\n",
    "    n=len(MP_transistion_Data)\n",
    "    V_matrix=np.zeros((n,n))\n",
    "    R_vector=np.zeros(n)\n",
    "    all_one=np.eye(n)\n",
    "    for i in range(n):\n",
    "        for j in range(n):\n",
    "            V_matrix[i][j]=MP_transistion_Data[i][j]*gama\n",
    "    for i in range(n):\n",
    "        R_vector[i]=Reward[i]\n",
    "    \n",
    "    Result=np.dot(R_vector,np.linalg.inv(all_one-np.transpose(V_matrix)))\n",
    "    \n",
    "    return Result"
   ]
  },
  {
   "cell_type": "code",
   "execution_count": 241,
   "metadata": {},
   "outputs": [
    {
     "name": "stdout",
     "output_type": "stream",
     "text": [
      "the result of value function is \n",
      "[28.29912023 28.18181818 28.18181818 30.        ]\n"
     ]
    }
   ],
   "source": [
    "print(\"the result of value function is \" )\n",
    "print(Solve_V(MP_transistion_Data,Reward,0.9))"
   ]
  },
  {
   "cell_type": "code",
   "execution_count": 179,
   "metadata": {},
   "outputs": [],
   "source": [
    "trajectory=[\n",
    "    [[0,2],[1,2],[2,2],[3,3]],\n",
    "    [[0,2],[1,2],[2,2],[1,2],[3,3]],\n",
    "    [[0,2],[1,2],[2,2],[1,2],[2,2],[3,3]],\n",
    "    [[0,2],[1,2],[2,2],[1,2],[2,2],[1,2],[3,3]],\n",
    "    [[0,2],[1,2],[2,2],[1,2],[2,2],[1,2],[2,2],[3,3]],\n",
    "    [[0,2],[1,2],[3,3]],\n",
    "    [[0,2],[2,2],[3,3]],\n",
    "    [[0,2],[2,2],[1,2],[3,3]],\n",
    "    [[0,2],[2,2],[3,3]],\n",
    "    [[0,2],[2,2],[1,2],[2,2],[3,3]],\n",
    "    [[0,2],[2,2],[1,2],[2,2],[1,2],[3,3]],\n",
    "    [[0,2],[2,2],[1,2],[2,2],[1,2],[3,3]],\n",
    "    [[0,2],[2,2],[1,2],[2,2],[1,2],[2,2],[3,3]],\n",
    "    [[0,4],[3,3]],\n",
    "]"
   ]
  },
  {
   "cell_type": "code",
   "execution_count": 258,
   "metadata": {},
   "outputs": [
    {
     "data": {
      "text/plain": [
       "[<matplotlib.lines.Line2D at 0x11a2655c0>]"
      ]
     },
     "execution_count": 258,
     "metadata": {},
     "output_type": "execute_result"
    },
    {
     "data": {
      "image/png": "[encoded data removed]",
      "text/plain": [
       "<Figure size 432x288 with 1 Axes>"
      ]
     },
     "metadata": {
      "needs_background": "light"
     },
     "output_type": "display_data"
    }
   ],
   "source": [
    "trueV=[8,7,7,3]\n",
    "plot_Lambda=[]\n",
    "plot_error=[]\n",
    "for Lambda in range(0,11):\n",
    "    result=Backward_TD(4,trajectory, Lambda/10, 0.9)\n",
    "    accuracy=0\n",
    "    for i in range(4):\n",
    "        accuracy+=(result[i]-trueV[i])**2/4\n",
    "    plot_Lambda.append(Lambda/10)\n",
    "    plot_error.append(accuracy)\n",
    "\n",
    "plt.plot(plot_Lambda,plot_error)"
   ]
  },
  {
   "cell_type": "markdown",
   "metadata": {},
   "source": [
    "## 5. Prove that Offline Forward-View TD(Lambda) and Offline Backward View TD(Lambda) are equivalent. We covered the proof of Lambda = 1 in class. Do the proof for arbitrary Lambda (similar telescoping argument as done in class) for the case where a state appears only once in an episode."
   ]
  },
  {
   "cell_type": "markdown",
   "metadata": {},
   "source": [
    "For general $\\lambda$, TD errors also telescope to $\\lambda$-error, $G_t^λ − V(S_t)$\n",
    "$$\\begin{aligned}\n",
    "G_t^\\lambda − V(S_t)=− V(S_t)&+(1-\\lambda)\\lambda^0(R_{t+1}+\\gamma V(S_{t+1})) \\\\\n",
    "&+(1-\\lambda)\\lambda^1(R_{t+1}+\\gamma R_{t+2}+\\gamma^2 V(S_{t+2}))\\\\\n",
    "&+(1-\\lambda)\\lambda^2(R_{t+1}+\\gamma R_{t+2}+\\gamma^2 R_{t+3}+\\gamma^3 V(S_{t+3}))\\\\\n",
    "&+...\\\\\n",
    "=− V(S_t)&+(\\gamma\\lambda)^0(R_{t+1}+\\gamma V(S_{t+1}-\\gamma \\lambda V(S_{t+1}))\\\\\n",
    "&+(\\gamma\\lambda)^1(R_{t+2}+\\gamma V(S_{t+2}-\\gamma \\lambda V(S_{t+2}))\\\\\n",
    "&+(\\gamma\\lambda)^2(R_{t+3}+\\gamma V(S_{t+3}-\\gamma \\lambda V(S_{t+3}))\\\\\n",
    "&+...\\\\\n",
    "=&(\\gamma\\lambda)^0(R_{t+1}+\\gamma V(S_{t+1}- V(S_{t}))\\\\\n",
    "&+(\\gamma\\lambda)^1(R_{t+2}+\\gamma V(S_{t+2}- V(S_{t+1}))\\\\\n",
    "&+(\\gamma\\lambda)^2(R_{t+3}+\\gamma V(S_{t+3}- V(S_{t+2}))\\\\\n",
    "&+...\\\\\n",
    "&=\\lambda_t+\\gamma\\lambda\\delta_{t+1}+(\\gamma\\lambda)^2\\delta_{t+2}+(\\gamma\\lambda)^{T}\\delta_{T}\n",
    "\\end{aligned}$$"
   ]
  }
 ],
 "metadata": {
  "kernelspec": {
   "display_name": "Python 3",
   "language": "python",
   "name": "python3"
  },
  "language_info": {
   "codemirror_mode": {
    "name": "ipython",
    "version": 3
   },
   "file_extension": ".py",
   "mimetype": "text/x-python",
   "name": "python",
   "nbconvert_exporter": "python",
   "pygments_lexer": "ipython3",
   "version": "3.6.8"
  }
 },
 "nbformat": 4,
 "nbformat_minor": 2
}
