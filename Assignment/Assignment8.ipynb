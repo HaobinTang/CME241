{
 "cells": [
  {
   "cell_type": "markdown",
   "metadata": {},
   "source": [
    "#  Assignment 8 by Haobin Tang"
   ]
  },
  {
   "cell_type": "markdown",
   "metadata": {},
   "source": [
    "## Write with proper notation, the derivations to solutions of Linear Systems for Bellman Error-minimization and Projected Bellman Error-minimization"
   ]
  },
  {
   "cell_type": "markdown",
   "metadata": {},
   "source": [
    "### Bellman Error (BE)-minimizing:"
   ]
  },
  {
   "cell_type": "markdown",
   "metadata": {},
   "source": [
    "Vector $v_w = \\Phi · w$ in this subspace has coordinates $[v_w(s_1), v_w(s_2), . . . , v_w(s_n)]$\n",
    "\n",
    "Bellman Error (BE)-minimizing: $w_{BE}= argmin_w d(B_\\pi v_w,v_w)$ \n",
    "1. This can be expressed as the solution of a linear system $Aw = b$\n",
    "2. Matrix $A$ and Vector $b$ comprises of $P_\\pi,R_\\pi,\\Phi,\\mu_\\pi$\n",
    "3. In model-free setting, A and b can be estimated with batch data\n",
    "4. Based on observation: $w_{BE} = argmin_w(\\mathbb{E}\\pi[\\delta])^2$, where $\\delta$ is TD Error \n",
    "5. Cannot learn if we can only access features, and not underlying states"
   ]
  },
  {
   "cell_type": "markdown",
   "metadata": {},
   "source": [
    "$$\n",
    "\\begin{aligned}\n",
    "w_{BE}&= argmin_w d(B_\\pi v_w,v_w)\\\\\n",
    "&= argmin_w d(R_\\pi,\\Phi w-\\gamma P_\\pi \\Phi w)\\\\\n",
    "&= argmin_w d(R_\\pi,(\\Phi-\\gamma P_\\pi \\Phi) w)\\\\\n",
    "\\end{aligned}\n",
    "$$"
   ]
  },
  {
   "cell_type": "markdown",
   "metadata": {},
   "source": [
    "This is a weighted least-squares linear regression of $R_\\pi$ versus $\\Phi-\\gamma P_\\pi \\Phi) w$ with weights $\\mu\\pi$, whose solution is:\n",
    "$$w_{BE}=((\\Phi-\\gamma P_\\pi \\Phi)^TD(\\Phi-\\gamma P_\\pi \\Phi))^{-1}(\\Phi-\\gamma P_\\pi \\Phi)^TDR_\\pi$$\n"
   ]
  },
  {
   "cell_type": "markdown",
   "metadata": {},
   "source": [
    "Projected Bellman Error (PBE)-minimizing: $w_{PBE} =argmin_wd((Π_Φ·B_π)v_w,v_w)$\n",
    "\n",
    "1. The minimum is 0, i.e., $Φ · w_{PBE}$ is the fixed point of operator $Π_Φ·B_π$ \n",
    "2. Starting with an arbitrary VF vector $v$ and repeatedly applying $B_π$ (taking it out of the subspace) followed by $Π_Φ$ (projecting it back to the subspace), we will reach the fixed point $Φ · w_{PBE}$\n",
    "3. Also,$ w_{PBE}$ can be expressed as the solution of a linear system $Aw = b$ \n",
    "4. In model-free setting, $A$ and $b$ can be estimated with batch data\n"
   ]
  },
  {
   "cell_type": "markdown",
   "metadata": {},
   "source": [
    "$$Π_Φ =Φ·(Φ^T ·D·Φ)^{−1} ·Φ^T ·D \\\\\n",
    "B_πv = R_π + γP_π · v$$\n",
    "Therefore\n",
    "$$Φ·(Φ^T ·D·Φ)^{−1} ·Φ^T ·D·(R_π + γP_π ·Φ·w_{PBE})=Φ·w_{PBE}$$\n",
    "$$Φ·w_{PBE}=(Φ^T ·D·(Φ-γP_πΦ))^{-1}Φ^T ·D·R_π$$"
   ]
  }
 ],
 "metadata": {
  "kernelspec": {
   "display_name": "Python 3",
   "language": "python",
   "name": "python3"
  },
  "language_info": {
   "codemirror_mode": {
    "name": "ipython",
    "version": 3
   },
   "file_extension": ".py",
   "mimetype": "text/x-python",
   "name": "python",
   "nbconvert_exporter": "python",
   "pygments_lexer": "ipython3",
   "version": "3.6.8"
  }
 },
 "nbformat": 4,
 "nbformat_minor": 2
}
