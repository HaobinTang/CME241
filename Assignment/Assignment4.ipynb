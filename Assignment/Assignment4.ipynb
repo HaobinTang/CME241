{
 "cells": [
  {
   "cell_type": "markdown",
   "metadata": {},
   "source": [
    "#  Assignment 4 by Haobin Tang\n"
   ]
  },
  {
   "cell_type": "markdown",
   "metadata": {},
   "source": [
    "# 1. Work out (in LaTeX) the equations for Absolute/Relative Risk Premia for CARA/CRRA respectively"
   ]
  },
  {
   "cell_type": "markdown",
   "metadata": {},
   "source": [
    "CARA:\n",
    "Constant Absolute Risk-Aversion (CARA)\n",
    "$$A(x)=\\frac{-U''(x)}{U'(x)}=a$$\n",
    "a is called Coefficient of Constant Absolute Risk-Aversion (CARA)\n",
    "\n",
    "One example of U(x) is that:\n",
    "$$U(x)=\\frac{-e^{-ax}}{e}$$\n",
    "\n",
    "Risk Primia:\n",
    "\n",
    "For $a = 0$, $U(x) = x$ (note: $A(x)=\\frac{-U''(x)}{U'(x)}=0$)\n",
    "If the random outcome $x ∼N(\\mu, σ^2)$\n",
    "\n",
    "$$\\mathbb{E}=\\left\\{\n",
    "\\begin{aligned}\n",
    "\\frac{-e^{-a\\mu+\\frac{a^2σ^2}{2}}}{e} \\\\\n",
    "\\mu\n",
    "\\end{aligned}\n",
    "\\right.$$\n",
    "$$x_{CE} =\\mu−aσ^2$$\n",
    "Absolute Risk Premium $\\pi_A = \\mu − x_{CE} = \\frac{aσ^2}{2}$\n",
    "\n",
    "$$$$$$$$$$$$$$$$\n",
    "\n",
    "\n",
    "CRRA:Constant Relative Risk-Aversion (CRRA)\n",
    "$$R(x)=\\frac{-U''(x)*x}{U'(x)}=\\gamma$$\n",
    "a is called Coefficient of Constant Absolute Risk-Aversion (CARA)\n",
    "\n",
    "One example of U(x) is that:\n",
    "$$U(x)=\\frac{x^{1-\\gamma}}{1-\\gamma}$$\n",
    "Risk Primia:\n",
    "\n",
    "For $\\gamma= 1$, $U(x) = log(x)$ (note: $R(x) = \\frac{-U''(x)*x}{U'(x)} = 1$)\n",
    "\n",
    "If the random outcome $x$ is lognormal $log(x) ∼N(\\mu, σ^2)$\n",
    "$$\\mathbb{E}=\\left\\{\n",
    "\\begin{aligned}\n",
    "\\frac{-e^{\\mu(1-\\gamma)+\\frac{σ^2}{2}(1-\\gamma)^2}}{1-\\gamma} \\\\\n",
    "\\mu\n",
    "\\end{aligned}\n",
    "\\right.$$\n",
    "\n",
    "$$x_{CE} =e^{\\mu+\\frac{σ^2}{2}(1-\\gamma)}$$\n",
    "Relative Risk Premium $\\pi =1−\\frac{x_{CE}}{\\bar{x}} =1−e^{-\\frac{σ^2\\gamma}{2}}$"
   ]
  },
  {
   "cell_type": "markdown",
   "metadata": {},
   "source": [
    "# 2. Write the solutions to Portfolio Applications covered in class with precise notation"
   ]
  },
  {
   "cell_type": "markdown",
   "metadata": {},
   "source": [
    "We know from the problem that\n",
    "$$logW∼N(r+\\pi(\\mu−r)− \\frac{\\pi^2\\sigma^2}{2} ,\\pi^2\\sigma^2)$$\n",
    "From the section on CRRA Utility, we know we need to maximize:\n",
    "$$r+\\pi(\\mu−r)− \\frac{\\pi^2\\sigma^2}{2}+\\frac{\\pi^2\\sigma^2(1-\\gamma)}{2}$$\n",
    "$$=r+\\pi(\\mu−r)− \\frac{\\pi^2\\sigma^2\\gamma}{2}$$\n",
    "To maximize this objective function we take a derivative of $\\pi$:\n",
    "$$(r+\\pi(\\mu−r)− \\frac{\\pi^2\\sigma^2\\gamma}{2})d\\pi=0$$\n",
    "$$(\\mu−r)− \\pi\\sigma^2\\gamma=0$$\n",
    "$$\\pi^*=\\frac{\\mu−r}{\\gamma\\sigma^2}$$"
   ]
  }
 ],
 "metadata": {
  "kernelspec": {
   "display_name": "Python 3",
   "language": "python",
   "name": "python3"
  },
  "language_info": {
   "codemirror_mode": {
    "name": "ipython",
    "version": 3
   },
   "file_extension": ".py",
   "mimetype": "text/x-python",
   "name": "python",
   "nbconvert_exporter": "python",
   "pygments_lexer": "ipython3",
   "version": "3.6.8"
  }
 },
 "nbformat": 4,
 "nbformat_minor": 2
}
